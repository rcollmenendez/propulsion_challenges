{
  "nbformat": 4,
  "nbformat_minor": 0,
  "metadata": {
    "colab": {
      "name": "Day 4 - Advanced Classification Models.ipynb",
      "provenance": [],
      "collapsed_sections": [],
      "mount_file_id": "1n7EwkCDpl76rCKx0agrc6jUbncncLo8-",
      "authorship_tag": "ABX9TyOlLkJ98h5px5wuoVubbwcy",
      "include_colab_link": true
    },
    "kernelspec": {
      "name": "python3",
      "display_name": "Python 3"
    },
    "language_info": {
      "name": "python"
    }
  },
  "cells": [
    {
      "cell_type": "markdown",
      "metadata": {
        "id": "view-in-github",
        "colab_type": "text"
      },
      "source": [
        "<a href=\"https://colab.research.google.com/github/rcollmenendez/propulsion_challenges/blob/main/Advanced_Classification_Models.ipynb\" target=\"_parent\"><img src=\"https://colab.research.google.com/assets/colab-badge.svg\" alt=\"Open In Colab\"/></a>"
      ]
    },
    {
      "cell_type": "markdown",
      "metadata": {
        "id": "R3bIR-8-RnFD"
      },
      "source": [
        "# Predicting how likely is a pirate attack to be successful"
      ]
    },
    {
      "cell_type": "code",
      "metadata": {
        "id": "tDwF9aAORVtc"
      },
      "source": [
        "import pandas as pd\n",
        "import numpy as np\n",
        "import matplotlib.pyplot as plt\n",
        "\n",
        "# Machine Learning classes from sklearn\n",
        "from sklearn.preprocessing import StandardScaler, OneHotEncoder\n",
        "from sklearn.pipeline import Pipeline\n",
        "from sklearn.compose import ColumnTransformer\n",
        "from sklearn.model_selection import cross_val_score\n",
        "from sklearn.model_selection import train_test_split\n",
        "from sklearn.metrics import f1_score\n",
        "from sklearn.impute import SimpleImputer, KNNImputer\n",
        "\n",
        "# Load models\n",
        "from sklearn.linear_model import LogisticRegression\n",
        "from sklearn.neighbors import KNeighborsClassifier\n",
        "from sklearn.naive_bayes import BernoulliNB\n",
        "from sklearn.svm import LinearSVC\n",
        "\n",
        "from sklearn.tree import DecisionTreeClassifier\n",
        "from sklearn.ensemble import RandomForestClassifier\n",
        "from sklearn.ensemble import AdaBoostClassifier\n",
        "from sklearn.ensemble import GradientBoostingClassifier\n",
        "from xgboost import XGBClassifier"
      ],
      "execution_count": 261,
      "outputs": []
    },
    {
      "cell_type": "markdown",
      "metadata": {
        "id": "-cO-7g5vxRUE"
      },
      "source": [
        "# Pirates dataset\n",
        "\n",
        "### Dataset Description:\n",
        "\n",
        "You, the High Commander of the 7 Seas, are tasked to predict whether a Pirate attack is likely to be successful. It just so happens that you are also a talented Data scientist! You are provided with a dataset on vessels that have been attacked by pirates. Your dataset describes the attributes of a successful (1) and an unsuccessful (0) attack. The columns are described as follow:\n",
        "\n",
        "DATETIME (LOCAL): The local date and time of when the attack occurred\n",
        "\n",
        "DATETIME (UTC): The date and time in UTC format of when the attack occurred\n",
        "\n",
        "DATE (LT): The date in local time of when the attack occurred\n",
        "\n",
        "DATE (UTC): The date in UTC format of when the attack occurred\n",
        "\n",
        "REGION: Region in which the attack took place\n",
        "\n",
        "COUNTRY: Country of the occurrence\n",
        "\n",
        "INCIDENT TYPE: Type of the attack\n",
        "\n",
        "MAERSK: Indicates whether the attacked vessel belonged to the MAERSK shipping company\n",
        "\n",
        "VESSEL ACTIVITY LOCATION: Location of the vessel during attack\n",
        "\n",
        "LAT: Latitude coordinate of attack\n",
        "\n",
        "LONG: Longitude coordinate of attack\n",
        "\n",
        "TIMEZONE: Time zone in which the attack occurred\n",
        "\n",
        "TIME OF DAY: General time of day when the attack occurred\n",
        "\n",
        "ATTACKS: Indicate whether the attack occurred (1: attack occurred, 0: attack did not occur)\n",
        "\n",
        "ATTACK SUCCESS: Indicate whether the attack was successful or not."
      ]
    },
    {
      "cell_type": "code",
      "metadata": {
        "colab": {
          "base_uri": "https://localhost:8080/",
          "height": 275
        },
        "id": "A7QUUuX9R_sD",
        "outputId": "ea20492e-670f-4034-f4be-0827fe380c10"
      },
      "source": [
        "# Load pirate_data.csv\n",
        "df = pd.read_csv(\"/content/drive/MyDrive/0_data/04_MachineLearning/pirate_data.csv\", index_col=0)\n",
        "df.head(4)"
      ],
      "execution_count": 262,
      "outputs": [
        {
          "output_type": "execute_result",
          "data": {
            "text/html": [
              "<div>\n",
              "<style scoped>\n",
              "    .dataframe tbody tr th:only-of-type {\n",
              "        vertical-align: middle;\n",
              "    }\n",
              "\n",
              "    .dataframe tbody tr th {\n",
              "        vertical-align: top;\n",
              "    }\n",
              "\n",
              "    .dataframe thead th {\n",
              "        text-align: right;\n",
              "    }\n",
              "</style>\n",
              "<table border=\"1\" class=\"dataframe\">\n",
              "  <thead>\n",
              "    <tr style=\"text-align: right;\">\n",
              "      <th></th>\n",
              "      <th>DATETIME (LOCAL)</th>\n",
              "      <th>DATETIME (UTC)</th>\n",
              "      <th>DATE (LT)</th>\n",
              "      <th>DATE (UTC)</th>\n",
              "      <th>REGION</th>\n",
              "      <th>COUNTRY</th>\n",
              "      <th>INCIDENT TYPE</th>\n",
              "      <th>VESSEL TYPE</th>\n",
              "      <th>MAERSK?</th>\n",
              "      <th>VESSEL ACTIVITY LOCATION</th>\n",
              "      <th>LAT</th>\n",
              "      <th>LONG</th>\n",
              "      <th>TIMEZONE</th>\n",
              "      <th>TIME OF DAY</th>\n",
              "      <th>ATTACKS</th>\n",
              "      <th>ATTACK SUCCESS</th>\n",
              "    </tr>\n",
              "  </thead>\n",
              "  <tbody>\n",
              "    <tr>\n",
              "      <th>1</th>\n",
              "      <td>2016-01-30 23:34:00</td>\n",
              "      <td>2016-01-30 22:34:00</td>\n",
              "      <td>2016-01-30</td>\n",
              "      <td>2016-01-30</td>\n",
              "      <td>WEST AFRICA</td>\n",
              "      <td>NIGERIA</td>\n",
              "      <td>FAILED ATTACK, HIJACKING</td>\n",
              "      <td>CONTAINER SHIP</td>\n",
              "      <td>0</td>\n",
              "      <td>OFF SHORE</td>\n",
              "      <td>3.000000</td>\n",
              "      <td>6.250000</td>\n",
              "      <td>Africa/Lagos</td>\n",
              "      <td>EVENING</td>\n",
              "      <td>1</td>\n",
              "      <td>0</td>\n",
              "    </tr>\n",
              "    <tr>\n",
              "      <th>2</th>\n",
              "      <td>2016-01-29 23:40:00</td>\n",
              "      <td>2016-01-29 22:40:00</td>\n",
              "      <td>2016-01-29</td>\n",
              "      <td>2016-01-29</td>\n",
              "      <td>WEST AFRICA</td>\n",
              "      <td>NIGERIA</td>\n",
              "      <td>KIDNAP/RANSOM AT SEA</td>\n",
              "      <td>PRODUCT TANKER</td>\n",
              "      <td>0</td>\n",
              "      <td>OFF SHORE</td>\n",
              "      <td>2.500000</td>\n",
              "      <td>5.750000</td>\n",
              "      <td>Africa/Lagos</td>\n",
              "      <td>EVENING</td>\n",
              "      <td>1</td>\n",
              "      <td>1</td>\n",
              "    </tr>\n",
              "    <tr>\n",
              "      <th>3</th>\n",
              "      <td>2016-01-28 03:00:00</td>\n",
              "      <td>2016-01-28 02:00:00</td>\n",
              "      <td>2016-01-28</td>\n",
              "      <td>2016-01-28</td>\n",
              "      <td>SOUTH ASIA</td>\n",
              "      <td>INDIA</td>\n",
              "      <td>FAILED ATTACK, ROBBERY</td>\n",
              "      <td>PRODUCT TANKER</td>\n",
              "      <td>0</td>\n",
              "      <td>ANCHORAGE</td>\n",
              "      <td>22.816667</td>\n",
              "      <td>70.116667</td>\n",
              "      <td>Asia/Kolkata</td>\n",
              "      <td>NIGHT</td>\n",
              "      <td>1</td>\n",
              "      <td>0</td>\n",
              "    </tr>\n",
              "    <tr>\n",
              "      <th>4</th>\n",
              "      <td>NaN</td>\n",
              "      <td>NaN</td>\n",
              "      <td>2016-01-27</td>\n",
              "      <td>2016-01-27</td>\n",
              "      <td>HORN OF AFRICA/ GULF OF ADEN</td>\n",
              "      <td>SOMALIA</td>\n",
              "      <td>SUSPICIOUS ACTIVITY AT SEA</td>\n",
              "      <td>NaN</td>\n",
              "      <td>0</td>\n",
              "      <td>OFF SHORE</td>\n",
              "      <td>13.998747</td>\n",
              "      <td>54.112792</td>\n",
              "      <td>Asia/Riyadh</td>\n",
              "      <td>UNKNOWN</td>\n",
              "      <td>1</td>\n",
              "      <td>0</td>\n",
              "    </tr>\n",
              "  </tbody>\n",
              "</table>\n",
              "</div>"
            ],
            "text/plain": [
              "      DATETIME (LOCAL)       DATETIME (UTC)  ... ATTACKS ATTACK SUCCESS\n",
              "1  2016-01-30 23:34:00  2016-01-30 22:34:00  ...       1              0\n",
              "2  2016-01-29 23:40:00  2016-01-29 22:40:00  ...       1              1\n",
              "3  2016-01-28 03:00:00  2016-01-28 02:00:00  ...       1              0\n",
              "4                  NaN                  NaN  ...       1              0\n",
              "\n",
              "[4 rows x 16 columns]"
            ]
          },
          "metadata": {},
          "execution_count": 262
        }
      ]
    },
    {
      "cell_type": "code",
      "metadata": {
        "colab": {
          "base_uri": "https://localhost:8080/"
        },
        "id": "b0LlXsdkzdzp",
        "outputId": "07373f56-c907-4e74-f4f9-a5041fc7788b"
      },
      "source": [
        "# Check columns, data types and nulls\n",
        "df.info()"
      ],
      "execution_count": 263,
      "outputs": [
        {
          "output_type": "stream",
          "name": "stdout",
          "text": [
            "<class 'pandas.core.frame.DataFrame'>\n",
            "Int64Index: 802 entries, 1 to 802\n",
            "Data columns (total 16 columns):\n",
            " #   Column                    Non-Null Count  Dtype  \n",
            "---  ------                    --------------  -----  \n",
            " 0   DATETIME (LOCAL)          582 non-null    object \n",
            " 1   DATETIME (UTC)            582 non-null    object \n",
            " 2   DATE (LT)                 802 non-null    object \n",
            " 3   DATE (UTC)                802 non-null    object \n",
            " 4   REGION                    802 non-null    object \n",
            " 5   COUNTRY                   802 non-null    object \n",
            " 6   INCIDENT TYPE             802 non-null    object \n",
            " 7   VESSEL TYPE               638 non-null    object \n",
            " 8   MAERSK?                   802 non-null    int64  \n",
            " 9   VESSEL ACTIVITY LOCATION  676 non-null    object \n",
            " 10  LAT                       802 non-null    float64\n",
            " 11  LONG                      802 non-null    float64\n",
            " 12  TIMEZONE                  802 non-null    object \n",
            " 13  TIME OF DAY               802 non-null    object \n",
            " 14  ATTACKS                   802 non-null    int64  \n",
            " 15  ATTACK SUCCESS            802 non-null    int64  \n",
            "dtypes: float64(2), int64(3), object(11)\n",
            "memory usage: 106.5+ KB\n"
          ]
        }
      ]
    },
    {
      "cell_type": "code",
      "metadata": {
        "id": "D2Dxms3pKIrM"
      },
      "source": [
        "# Change data types\n",
        "df[\"DATETIME (LOCAL)\"] = pd.to_datetime(df[\"DATETIME (LOCAL)\"])\n",
        "df[\"DATETIME (UTC)\"] = pd.to_datetime(df[\"DATETIME (UTC)\"])\n",
        "df[\"DATE (LT)\"] = pd.to_datetime(df[\"DATE (LT)\"])\n",
        "df[\"DATE (UTC)\"] = pd.to_datetime(df[\"DATE (UTC)\"])"
      ],
      "execution_count": 264,
      "outputs": []
    },
    {
      "cell_type": "code",
      "metadata": {
        "colab": {
          "base_uri": "https://localhost:8080/"
        },
        "id": "WEXzTQZ9PL5_",
        "outputId": "95421409-4af2-49a0-dc56-583a765d5320"
      },
      "source": [
        "# Extract some new fields from the dates\n",
        "# Month and day from \"DATE LT\" that does not have nulls\n",
        "df['MONTH'] = pd.DatetimeIndex(df[\"DATE (LT)\"]).month_name()\n",
        "df['DAY'] = pd.DatetimeIndex(df[\"DATE (LT)\"]).day_name()\n",
        "\n",
        "# Hour of the day in 24h format from \"DATETIME (LOCAL)\"\n",
        "df['HOUR'] = pd.DatetimeIndex(df[\"DATETIME (LOCAL)\"]).hour\n",
        "df.info()"
      ],
      "execution_count": 265,
      "outputs": [
        {
          "output_type": "stream",
          "name": "stdout",
          "text": [
            "<class 'pandas.core.frame.DataFrame'>\n",
            "Int64Index: 802 entries, 1 to 802\n",
            "Data columns (total 19 columns):\n",
            " #   Column                    Non-Null Count  Dtype         \n",
            "---  ------                    --------------  -----         \n",
            " 0   DATETIME (LOCAL)          582 non-null    datetime64[ns]\n",
            " 1   DATETIME (UTC)            582 non-null    datetime64[ns]\n",
            " 2   DATE (LT)                 802 non-null    datetime64[ns]\n",
            " 3   DATE (UTC)                802 non-null    datetime64[ns]\n",
            " 4   REGION                    802 non-null    object        \n",
            " 5   COUNTRY                   802 non-null    object        \n",
            " 6   INCIDENT TYPE             802 non-null    object        \n",
            " 7   VESSEL TYPE               638 non-null    object        \n",
            " 8   MAERSK?                   802 non-null    int64         \n",
            " 9   VESSEL ACTIVITY LOCATION  676 non-null    object        \n",
            " 10  LAT                       802 non-null    float64       \n",
            " 11  LONG                      802 non-null    float64       \n",
            " 12  TIMEZONE                  802 non-null    object        \n",
            " 13  TIME OF DAY               802 non-null    object        \n",
            " 14  ATTACKS                   802 non-null    int64         \n",
            " 15  ATTACK SUCCESS            802 non-null    int64         \n",
            " 16  MONTH                     802 non-null    object        \n",
            " 17  DAY                       802 non-null    object        \n",
            " 18  HOUR                      582 non-null    float64       \n",
            "dtypes: datetime64[ns](4), float64(3), int64(3), object(9)\n",
            "memory usage: 125.3+ KB\n"
          ]
        }
      ]
    },
    {
      "cell_type": "code",
      "metadata": {
        "colab": {
          "base_uri": "https://localhost:8080/"
        },
        "id": "Ve6FkhMHpicI",
        "outputId": "0b8d6ca1-7041-4c15-8681-b15f6e7324d9"
      },
      "source": [
        "# % of nulls per field\n",
        "round(df.isnull().sum()/len(df) * 100, 1)"
      ],
      "execution_count": 266,
      "outputs": [
        {
          "output_type": "execute_result",
          "data": {
            "text/plain": [
              "DATETIME (LOCAL)            27.4\n",
              "DATETIME (UTC)              27.4\n",
              "DATE (LT)                    0.0\n",
              "DATE (UTC)                   0.0\n",
              "REGION                       0.0\n",
              "COUNTRY                      0.0\n",
              "INCIDENT TYPE                0.0\n",
              "VESSEL TYPE                 20.4\n",
              "MAERSK?                      0.0\n",
              "VESSEL ACTIVITY LOCATION    15.7\n",
              "LAT                          0.0\n",
              "LONG                         0.0\n",
              "TIMEZONE                     0.0\n",
              "TIME OF DAY                  0.0\n",
              "ATTACKS                      0.0\n",
              "ATTACK SUCCESS               0.0\n",
              "MONTH                        0.0\n",
              "DAY                          0.0\n",
              "HOUR                        27.4\n",
              "dtype: float64"
            ]
          },
          "metadata": {},
          "execution_count": 266
        }
      ]
    },
    {
      "cell_type": "markdown",
      "metadata": {
        "id": "rxnFfPQ7Ezz_"
      },
      "source": [
        "### Check categorical variables"
      ]
    },
    {
      "cell_type": "code",
      "metadata": {
        "colab": {
          "base_uri": "https://localhost:8080/"
        },
        "id": "S8H4bDHwDlHz",
        "outputId": "7c7d45c7-acbe-4f5a-8d91-2b2f6a912874"
      },
      "source": [
        "# Check diff values for categorical variables\n",
        "for col_name in df.select_dtypes(\"object\").columns.to_list():\n",
        "  print(\"\\n\", col_name)\n",
        "  print(df[col_name].unique())"
      ],
      "execution_count": 267,
      "outputs": [
        {
          "output_type": "stream",
          "name": "stdout",
          "text": [
            "\n",
            " REGION\n",
            "['WEST AFRICA' 'SOUTH ASIA' 'HORN OF AFRICA/ GULF OF ADEN' 'SOUTH AMERICA'\n",
            " 'MIDDLE EAST' 'SOUTH EAST ASIA' 'NORTH AFRICA' 'NORTH EAST ASIA'\n",
            " 'EAST AFRICA' 'EUROPE' 'PACIFIC' 'CARIBBEAN' 'NORTH AMERICA']\n",
            "\n",
            " COUNTRY\n",
            "['NIGERIA' 'INDIA' 'SOMALIA' 'VENEZUELA' 'CONGO' \"COTE D'IVOIRE\" 'YEMEN'\n",
            " 'INDONESIA' 'IRAN' 'LIBYA' 'SINGAPORE' 'EGYPT' 'VIETNAM' 'MALAYSIA'\n",
            " 'CHINA' 'EQUATORIAL GUINEA' 'BANGLADESH' 'PHILIPPINES' 'TOGO' 'GHANA'\n",
            " 'GUYANA' 'PERU' 'BENIN' 'ARGENTINA' 'KENYA' 'COLOMBIA' 'CAMEROON'\n",
            " 'AUSTRALIA' 'DJIBOUTI' 'TURKEY' 'THAILAND' 'NEW ZEALAND' 'HAITI' 'USA'\n",
            " 'GUINEA' 'TRINIDAD AND TOBAGO' 'FINLAND' 'TANZANIA' 'OMAN' 'SOUTH KOREA'\n",
            " 'LIBERIA' 'SOUTH AFRICA' 'BAHRAIN' 'ANGOLA' 'MOZAMBIQUE' 'UKRAINE'\n",
            " 'PANAMA' 'BRAZIL' 'SENEGAL' 'GUINEA-BISSAU' 'SIERRA LEONE'\n",
            " 'PAPUA NEW GUINEA' 'HONDURAS' 'IRAQ' 'BAHAMAS']\n",
            "\n",
            " INCIDENT TYPE\n",
            "['FAILED ATTACK, HIJACKING' 'KIDNAP/RANSOM AT SEA'\n",
            " 'FAILED ATTACK, ROBBERY' 'SUSPICIOUS ACTIVITY AT SEA'\n",
            " 'THEFT AT ANCHORAGE' 'ARMED ROBBERY AT SEA' 'FAILED ATTACK, THEFT'\n",
            " 'COUNTER INSURGENCY/MILITARY OPERATION' 'ARMED ROBBERY AT ANCHORAGE'\n",
            " 'FAILED ATTACK, KIDNAP/RANSOM' 'INSURGENCY OPERATION'\n",
            " 'OTHER MARITIME RISK' 'TERRORIST ATTACK, OTHER, MARITIME'\n",
            " 'ANTI-PIRACY/NAVAL OPERATION' 'HIJACKING AT SEA'\n",
            " 'SUSPICIOUS ACTIVITY AT BERTH' 'NOTICE' 'THEFT AT BERTH' 'THEFT AT SEA'\n",
            " 'KIDNAP/RANSOM AT BERTH' 'ARMED ROBBERY AT BERTH'\n",
            " 'SUSPICIOUS ACTIVITY AT ANCHOR' 'KIDNAP/RANSOM AT ANCHORAGE' 'ACTIVISM'\n",
            " 'TERRORIST ATTACK, BOMBING']\n",
            "\n",
            " VESSEL TYPE\n",
            "['CONTAINER SHIP' 'PRODUCT TANKER' nan 'GENERAL CARGO VESSEL'\n",
            " 'PASSENGER VESSEL' 'LPG TANKER' 'TANKER' 'SURVEILLANCE VESSEL'\n",
            " 'MERCHANT VESSEL' 'RO-RO VESSEL' 'TRAWLER' 'FISHING DHOW' 'TUG'\n",
            " 'SUPPLY VESSEL' 'FISHING VESSEL' 'BULK CARRIER' 'SECURITY VESSEL'\n",
            " 'FISHING TRAWLER' 'LNG TANKER' 'VEHICLE CARRIER' 'CRUDE OIL TANKER'\n",
            " 'REEFER' 'DREDGER' 'CHEMICAL TANKER' 'PIPE-LAYER' 'BUNKER BARGE' 'BARGE'\n",
            " 'LOCAL CRAFT' 'RESEARCH VESSEL' 'OIL RIG' 'LNG CARRIER' 'UNKNOWN'\n",
            " 'ORE CARRIER' 'MOTOR VESSEL' 'WOOD CHIPS CARRIER' 'CABLE LAYER'\n",
            " 'HEAVY LIFT VESSEL' 'FLOATING STORAGE OFFLOADING VESSEL' 'DRILLSHIP'\n",
            " 'CREW VESSEL' 'SKIPPER' 'SMALL CRAFT' 'SCHOONER' 'YACHT' 'NAVAL VESSEL']\n",
            "\n",
            " VESSEL ACTIVITY LOCATION\n",
            "['OFF SHORE' 'ANCHORAGE' nan 'BERTH']\n",
            "\n",
            " TIMEZONE\n",
            "['Africa/Lagos' 'Asia/Kolkata' 'Asia/Riyadh' 'America/Caracas'\n",
            " 'Africa/Abidjan' 'Asia/Jakarta' 'Asia/Tehran' 'Africa/Tripoli'\n",
            " 'Asia/Kuala_Lumpur' 'Africa/Cairo' 'Asia/Ho_Chi_Minh' 'Asia/Shanghai'\n",
            " 'Africa/Mogadishu' 'Africa/Malabo' 'Asia/Dhaka' 'Asia/Manila'\n",
            " 'Africa/Lome' 'Africa/Accra' 'America/Guyana' 'America/Lima'\n",
            " 'Africa/Porto-Novo' 'Asia/Pontianak' 'Asia/Makassar'\n",
            " 'America/Argentina/Buenos_Aires' 'Africa/Nairobi' 'Asia/Brunei'\n",
            " 'Asia/Singapore' 'America/Bogota' 'Europe/Istanbul' 'Pacific/Auckland'\n",
            " 'America/Santo_Domingo' 'America/Chicago' 'America/Port_of_Spain'\n",
            " 'Europe/Helsinki' 'Asia/Dubai' 'Asia/Pyongyang' 'Africa/Monrovia'\n",
            " 'Asia/Kuching' 'Asia/Saigon' 'Africa/Johannesburg' 'Asia/Bangkok'\n",
            " 'Asia/Bahrain' 'Africa/Luanda' 'Asia/Gaza' 'Asia/Muscat' 'Africa/Maputo'\n",
            " 'Europe/Kiev' 'America/Panama' 'Asia/Calcutta' 'Europe/Simferopol'\n",
            " 'America/Recife' 'Africa/Bissau' 'Africa/Conakry' 'Pacific/Port_Moresby'\n",
            " 'America/Tegucigalpa' 'Asia/Baghdad' 'Pacific/Chuuk' 'America/Nassau']\n",
            "\n",
            " TIME OF DAY\n",
            "['EVENING' 'NIGHT' 'UNKNOWN' 'MORNING' 'AFTERNOON']\n",
            "\n",
            " MONTH\n",
            "['January' 'February' 'March' 'April' 'December' 'November' 'October'\n",
            " 'September' 'August' 'July' 'June' 'May']\n",
            "\n",
            " DAY\n",
            "['Saturday' 'Friday' 'Thursday' 'Wednesday' 'Monday' 'Sunday' 'Tuesday']\n"
          ]
        }
      ]
    },
    {
      "cell_type": "markdown",
      "metadata": {
        "id": "g-Y593xRp59F"
      },
      "source": [
        "### Check frequencies for each value of each categorical variable"
      ]
    },
    {
      "cell_type": "code",
      "metadata": {
        "colab": {
          "base_uri": "https://localhost:8080/"
        },
        "id": "366J2Jusp6IX",
        "outputId": "ccddae38-8dc0-415b-ef03-563a92512d38"
      },
      "source": [
        "# Region\n",
        "df[\"REGION\"].value_counts()"
      ],
      "execution_count": 268,
      "outputs": [
        {
          "output_type": "execute_result",
          "data": {
            "text/plain": [
              "SOUTH EAST ASIA                 313\n",
              "WEST AFRICA                     288\n",
              "SOUTH ASIA                       67\n",
              "HORN OF AFRICA/ GULF OF ADEN     34\n",
              "MIDDLE EAST                      25\n",
              "SOUTH AMERICA                    23\n",
              "NORTH AFRICA                     18\n",
              "NORTH EAST ASIA                  10\n",
              "EAST AFRICA                       8\n",
              "CARIBBEAN                         7\n",
              "EUROPE                            5\n",
              "PACIFIC                           3\n",
              "NORTH AMERICA                     1\n",
              "Name: REGION, dtype: int64"
            ]
          },
          "metadata": {},
          "execution_count": 268
        }
      ]
    },
    {
      "cell_type": "markdown",
      "metadata": {
        "id": "-6wfWjOHqVcG"
      },
      "source": [
        "Let's group the regions with less than 10 observations"
      ]
    },
    {
      "cell_type": "code",
      "metadata": {
        "colab": {
          "base_uri": "https://localhost:8080/"
        },
        "id": "9W_-JgI8qe26",
        "outputId": "4c574e23-66d8-4e1e-e19f-5eb6b72d8bbd"
      },
      "source": [
        "regions = df[\"REGION\"].value_counts()[df[\"REGION\"].value_counts() <= 10].index.to_list()\n",
        "df.loc[df[\"REGION\"].isin(regions), \"REGION\"] = \"OTHER\"\n",
        "df[\"REGION\"].value_counts()"
      ],
      "execution_count": 269,
      "outputs": [
        {
          "output_type": "execute_result",
          "data": {
            "text/plain": [
              "SOUTH EAST ASIA                 313\n",
              "WEST AFRICA                     288\n",
              "SOUTH ASIA                       67\n",
              "HORN OF AFRICA/ GULF OF ADEN     34\n",
              "OTHER                            34\n",
              "MIDDLE EAST                      25\n",
              "SOUTH AMERICA                    23\n",
              "NORTH AFRICA                     18\n",
              "Name: REGION, dtype: int64"
            ]
          },
          "metadata": {},
          "execution_count": 269
        }
      ]
    },
    {
      "cell_type": "code",
      "metadata": {
        "colab": {
          "base_uri": "https://localhost:8080/"
        },
        "id": "zc-jWBT5qG1r",
        "outputId": "26880c1a-518e-433c-fd76-5a5c04cb5d63"
      },
      "source": [
        "# Country\n",
        "df[\"COUNTRY\"].value_counts()"
      ],
      "execution_count": 270,
      "outputs": [
        {
          "output_type": "execute_result",
          "data": {
            "text/plain": [
              "NIGERIA                209\n",
              "INDONESIA              151\n",
              "SINGAPORE               53\n",
              "MALAYSIA                47\n",
              "BANGLADESH              38\n",
              "VIETNAM                 36\n",
              "INDIA                   30\n",
              "PHILIPPINES             21\n",
              "SOMALIA                 19\n",
              "LIBYA                   19\n",
              "CONGO                   17\n",
              "YEMEN                   16\n",
              "GHANA                   15\n",
              "COTE D'IVOIRE           13\n",
              "CHINA                   11\n",
              "COLOMBIA                11\n",
              "TOGO                     8\n",
              "DJIBOUTI                 6\n",
              "GUINEA                   5\n",
              "EGYPT                    5\n",
              "KENYA                    5\n",
              "VENEZUELA                4\n",
              "PERU                     4\n",
              "IRAN                     4\n",
              "CAMEROON                 4\n",
              "UKRAINE                  3\n",
              "TRINIDAD AND TOBAGO      3\n",
              "TURKEY                   3\n",
              "LIBERIA                  3\n",
              "SIERRA LEONE             3\n",
              "BENIN                    3\n",
              "OMAN                     3\n",
              "ANGOLA                   3\n",
              "THAILAND                 2\n",
              "GUINEA-BISSAU            2\n",
              "SOUTH AFRICA             2\n",
              "BRAZIL                   2\n",
              "PAPUA NEW GUINEA         2\n",
              "FINLAND                  1\n",
              "EQUATORIAL GUINEA        1\n",
              "NEW ZEALAND              1\n",
              "TANZANIA                 1\n",
              "HAITI                    1\n",
              "GUYANA                   1\n",
              "ARGENTINA                1\n",
              "BAHAMAS                  1\n",
              "USA                      1\n",
              "SOUTH KOREA              1\n",
              "MOZAMBIQUE               1\n",
              "HONDURAS                 1\n",
              "AUSTRALIA                1\n",
              "BAHRAIN                  1\n",
              "IRAQ                     1\n",
              "PANAMA                   1\n",
              "SENEGAL                  1\n",
              "Name: COUNTRY, dtype: int64"
            ]
          },
          "metadata": {},
          "execution_count": 270
        }
      ]
    },
    {
      "cell_type": "markdown",
      "metadata": {
        "id": "La0K9njXrlJ1"
      },
      "source": [
        "Let's group the countries with less than 10 cases in \"others\""
      ]
    },
    {
      "cell_type": "code",
      "metadata": {
        "colab": {
          "base_uri": "https://localhost:8080/"
        },
        "id": "0BEyLSa7rukM",
        "outputId": "40d8e081-fc86-4360-c288-87058c6ab3be"
      },
      "source": [
        "countries = df[\"COUNTRY\"].value_counts()[df[\"COUNTRY\"].value_counts() <= 9].index.to_list()\n",
        "df.loc[df[\"COUNTRY\"].isin(countries), \"COUNTRY\"] = \"OTHER\"\n",
        "df[\"COUNTRY\"].value_counts()"
      ],
      "execution_count": 271,
      "outputs": [
        {
          "output_type": "execute_result",
          "data": {
            "text/plain": [
              "NIGERIA          209\n",
              "INDONESIA        151\n",
              "OTHER             96\n",
              "SINGAPORE         53\n",
              "MALAYSIA          47\n",
              "BANGLADESH        38\n",
              "VIETNAM           36\n",
              "INDIA             30\n",
              "PHILIPPINES       21\n",
              "LIBYA             19\n",
              "SOMALIA           19\n",
              "CONGO             17\n",
              "YEMEN             16\n",
              "GHANA             15\n",
              "COTE D'IVOIRE     13\n",
              "COLOMBIA          11\n",
              "CHINA             11\n",
              "Name: COUNTRY, dtype: int64"
            ]
          },
          "metadata": {},
          "execution_count": 271
        }
      ]
    },
    {
      "cell_type": "code",
      "metadata": {
        "colab": {
          "base_uri": "https://localhost:8080/"
        },
        "id": "qe2kCk3TE6Uo",
        "outputId": "f426dd36-e235-4e00-849a-389161e202da"
      },
      "source": [
        "# Vessel type\n",
        "df[\"VESSEL TYPE\"].value_counts()"
      ],
      "execution_count": 272,
      "outputs": [
        {
          "output_type": "execute_result",
          "data": {
            "text/plain": [
              "BULK CARRIER                          134\n",
              "PRODUCT TANKER                        107\n",
              "CONTAINER SHIP                         60\n",
              "TANKER                                 34\n",
              "TUG                                    34\n",
              "FISHING VESSEL                         33\n",
              "MERCHANT VESSEL                        30\n",
              "CRUDE OIL TANKER                       28\n",
              "GENERAL CARGO VESSEL                   28\n",
              "SUPPLY VESSEL                          25\n",
              "PASSENGER VESSEL                       25\n",
              "CHEMICAL TANKER                        15\n",
              "LPG TANKER                             10\n",
              "UNKNOWN                                10\n",
              "VEHICLE CARRIER                         7\n",
              "TRAWLER                                 7\n",
              "BARGE                                   5\n",
              "FISHING TRAWLER                         4\n",
              "DREDGER                                 4\n",
              "REEFER                                  3\n",
              "HEAVY LIFT VESSEL                       3\n",
              "RESEARCH VESSEL                         2\n",
              "FLOATING STORAGE OFFLOADING VESSEL      2\n",
              "SECURITY VESSEL                         2\n",
              "PIPE-LAYER                              2\n",
              "LNG TANKER                              2\n",
              "NAVAL VESSEL                            2\n",
              "WOOD CHIPS CARRIER                      2\n",
              "BUNKER BARGE                            2\n",
              "FISHING DHOW                            2\n",
              "CABLE LAYER                             1\n",
              "MOTOR VESSEL                            1\n",
              "SMALL CRAFT                             1\n",
              "RO-RO VESSEL                            1\n",
              "SCHOONER                                1\n",
              "ORE CARRIER                             1\n",
              "SURVEILLANCE VESSEL                     1\n",
              "DRILLSHIP                               1\n",
              "SKIPPER                                 1\n",
              "LOCAL CRAFT                             1\n",
              "LNG CARRIER                             1\n",
              "YACHT                                   1\n",
              "OIL RIG                                 1\n",
              "CREW VESSEL                             1\n",
              "Name: VESSEL TYPE, dtype: int64"
            ]
          },
          "metadata": {},
          "execution_count": 272
        }
      ]
    },
    {
      "cell_type": "code",
      "metadata": {
        "colab": {
          "base_uri": "https://localhost:8080/"
        },
        "id": "Ji25XfmhFXdO",
        "outputId": "3f99fd0d-86a6-41c5-cfd3-6ea0fd19cc5e"
      },
      "source": [
        "vessel_types = df[\"VESSEL TYPE\"].value_counts()[df[\"VESSEL TYPE\"].value_counts() <= 6].index.to_list()\n",
        "df.loc[df[\"VESSEL TYPE\"].isin(vessel_types), \"VESSEL TYPE\"] = \"OTHER\"\n",
        "df[\"VESSEL TYPE\"].value_counts()"
      ],
      "execution_count": 273,
      "outputs": [
        {
          "output_type": "execute_result",
          "data": {
            "text/plain": [
              "BULK CARRIER            134\n",
              "PRODUCT TANKER          107\n",
              "CONTAINER SHIP           60\n",
              "OTHER                    51\n",
              "TANKER                   34\n",
              "TUG                      34\n",
              "FISHING VESSEL           33\n",
              "MERCHANT VESSEL          30\n",
              "GENERAL CARGO VESSEL     28\n",
              "CRUDE OIL TANKER         28\n",
              "SUPPLY VESSEL            25\n",
              "PASSENGER VESSEL         25\n",
              "CHEMICAL TANKER          15\n",
              "UNKNOWN                  10\n",
              "LPG TANKER               10\n",
              "TRAWLER                   7\n",
              "VEHICLE CARRIER           7\n",
              "Name: VESSEL TYPE, dtype: int64"
            ]
          },
          "metadata": {},
          "execution_count": 273
        }
      ]
    },
    {
      "cell_type": "markdown",
      "metadata": {
        "id": "vss2rFRnsnv3"
      },
      "source": [
        "Remove categorical variables that will not be used in the analysis"
      ]
    },
    {
      "cell_type": "code",
      "metadata": {
        "id": "uAeQmmSmsnQD"
      },
      "source": [
        "df = df.drop(columns=[\"DATETIME (LOCAL)\", \"DATETIME (UTC)\", \"DATE (LT)\", \"DATE (UTC)\", \"INCIDENT TYPE\", \"TIMEZONE\", \"MAERSK?\"])"
      ],
      "execution_count": 274,
      "outputs": []
    },
    {
      "cell_type": "code",
      "metadata": {
        "colab": {
          "base_uri": "https://localhost:8080/",
          "height": 204
        },
        "id": "i2cfIiPvtH8D",
        "outputId": "17f5e7f4-e5d5-4a8a-b621-bc3570b4fa5e"
      },
      "source": [
        "df.head(5)"
      ],
      "execution_count": 275,
      "outputs": [
        {
          "output_type": "execute_result",
          "data": {
            "text/html": [
              "<div>\n",
              "<style scoped>\n",
              "    .dataframe tbody tr th:only-of-type {\n",
              "        vertical-align: middle;\n",
              "    }\n",
              "\n",
              "    .dataframe tbody tr th {\n",
              "        vertical-align: top;\n",
              "    }\n",
              "\n",
              "    .dataframe thead th {\n",
              "        text-align: right;\n",
              "    }\n",
              "</style>\n",
              "<table border=\"1\" class=\"dataframe\">\n",
              "  <thead>\n",
              "    <tr style=\"text-align: right;\">\n",
              "      <th></th>\n",
              "      <th>REGION</th>\n",
              "      <th>COUNTRY</th>\n",
              "      <th>VESSEL TYPE</th>\n",
              "      <th>VESSEL ACTIVITY LOCATION</th>\n",
              "      <th>LAT</th>\n",
              "      <th>LONG</th>\n",
              "      <th>TIME OF DAY</th>\n",
              "      <th>ATTACKS</th>\n",
              "      <th>ATTACK SUCCESS</th>\n",
              "      <th>MONTH</th>\n",
              "      <th>DAY</th>\n",
              "      <th>HOUR</th>\n",
              "    </tr>\n",
              "  </thead>\n",
              "  <tbody>\n",
              "    <tr>\n",
              "      <th>1</th>\n",
              "      <td>WEST AFRICA</td>\n",
              "      <td>NIGERIA</td>\n",
              "      <td>CONTAINER SHIP</td>\n",
              "      <td>OFF SHORE</td>\n",
              "      <td>3.000000</td>\n",
              "      <td>6.250000</td>\n",
              "      <td>EVENING</td>\n",
              "      <td>1</td>\n",
              "      <td>0</td>\n",
              "      <td>January</td>\n",
              "      <td>Saturday</td>\n",
              "      <td>23.0</td>\n",
              "    </tr>\n",
              "    <tr>\n",
              "      <th>2</th>\n",
              "      <td>WEST AFRICA</td>\n",
              "      <td>NIGERIA</td>\n",
              "      <td>PRODUCT TANKER</td>\n",
              "      <td>OFF SHORE</td>\n",
              "      <td>2.500000</td>\n",
              "      <td>5.750000</td>\n",
              "      <td>EVENING</td>\n",
              "      <td>1</td>\n",
              "      <td>1</td>\n",
              "      <td>January</td>\n",
              "      <td>Friday</td>\n",
              "      <td>23.0</td>\n",
              "    </tr>\n",
              "    <tr>\n",
              "      <th>3</th>\n",
              "      <td>SOUTH ASIA</td>\n",
              "      <td>INDIA</td>\n",
              "      <td>PRODUCT TANKER</td>\n",
              "      <td>ANCHORAGE</td>\n",
              "      <td>22.816667</td>\n",
              "      <td>70.116667</td>\n",
              "      <td>NIGHT</td>\n",
              "      <td>1</td>\n",
              "      <td>0</td>\n",
              "      <td>January</td>\n",
              "      <td>Thursday</td>\n",
              "      <td>3.0</td>\n",
              "    </tr>\n",
              "    <tr>\n",
              "      <th>4</th>\n",
              "      <td>HORN OF AFRICA/ GULF OF ADEN</td>\n",
              "      <td>SOMALIA</td>\n",
              "      <td>NaN</td>\n",
              "      <td>OFF SHORE</td>\n",
              "      <td>13.998747</td>\n",
              "      <td>54.112792</td>\n",
              "      <td>UNKNOWN</td>\n",
              "      <td>1</td>\n",
              "      <td>0</td>\n",
              "      <td>January</td>\n",
              "      <td>Wednesday</td>\n",
              "      <td>NaN</td>\n",
              "    </tr>\n",
              "    <tr>\n",
              "      <th>5</th>\n",
              "      <td>SOUTH AMERICA</td>\n",
              "      <td>OTHER</td>\n",
              "      <td>GENERAL CARGO VESSEL</td>\n",
              "      <td>ANCHORAGE</td>\n",
              "      <td>10.267500</td>\n",
              "      <td>-63.432500</td>\n",
              "      <td>EVENING</td>\n",
              "      <td>1</td>\n",
              "      <td>1</td>\n",
              "      <td>January</td>\n",
              "      <td>Monday</td>\n",
              "      <td>23.0</td>\n",
              "    </tr>\n",
              "  </tbody>\n",
              "</table>\n",
              "</div>"
            ],
            "text/plain": [
              "                         REGION  COUNTRY  ...        DAY  HOUR\n",
              "1                   WEST AFRICA  NIGERIA  ...   Saturday  23.0\n",
              "2                   WEST AFRICA  NIGERIA  ...     Friday  23.0\n",
              "3                    SOUTH ASIA    INDIA  ...   Thursday   3.0\n",
              "4  HORN OF AFRICA/ GULF OF ADEN  SOMALIA  ...  Wednesday   NaN\n",
              "5                 SOUTH AMERICA    OTHER  ...     Monday  23.0\n",
              "\n",
              "[5 rows x 12 columns]"
            ]
          },
          "metadata": {},
          "execution_count": 275
        }
      ]
    },
    {
      "cell_type": "markdown",
      "metadata": {
        "id": "UyMQNrmkEtmM"
      },
      "source": [
        "### Check numerical variables"
      ]
    },
    {
      "cell_type": "code",
      "metadata": {
        "colab": {
          "base_uri": "https://localhost:8080/"
        },
        "id": "Uqf09-bJEGz_",
        "outputId": "51e53b2c-1299-4200-dd39-6d251ffb2062"
      },
      "source": [
        "df[\"ATTACKS\"].unique()"
      ],
      "execution_count": 276,
      "outputs": [
        {
          "output_type": "execute_result",
          "data": {
            "text/plain": [
              "array([1])"
            ]
          },
          "metadata": {},
          "execution_count": 276
        }
      ]
    },
    {
      "cell_type": "code",
      "metadata": {
        "colab": {
          "base_uri": "https://localhost:8080/",
          "height": 204
        },
        "id": "hUkntz95S06U",
        "outputId": "3e9a0170-456d-4eb5-ec58-6e5e29b5e06f"
      },
      "source": [
        "# Feature selection\n",
        "df = df.drop(columns=[\"ATTACKS\"])\n",
        "df.head(5)"
      ],
      "execution_count": 277,
      "outputs": [
        {
          "output_type": "execute_result",
          "data": {
            "text/html": [
              "<div>\n",
              "<style scoped>\n",
              "    .dataframe tbody tr th:only-of-type {\n",
              "        vertical-align: middle;\n",
              "    }\n",
              "\n",
              "    .dataframe tbody tr th {\n",
              "        vertical-align: top;\n",
              "    }\n",
              "\n",
              "    .dataframe thead th {\n",
              "        text-align: right;\n",
              "    }\n",
              "</style>\n",
              "<table border=\"1\" class=\"dataframe\">\n",
              "  <thead>\n",
              "    <tr style=\"text-align: right;\">\n",
              "      <th></th>\n",
              "      <th>REGION</th>\n",
              "      <th>COUNTRY</th>\n",
              "      <th>VESSEL TYPE</th>\n",
              "      <th>VESSEL ACTIVITY LOCATION</th>\n",
              "      <th>LAT</th>\n",
              "      <th>LONG</th>\n",
              "      <th>TIME OF DAY</th>\n",
              "      <th>ATTACK SUCCESS</th>\n",
              "      <th>MONTH</th>\n",
              "      <th>DAY</th>\n",
              "      <th>HOUR</th>\n",
              "    </tr>\n",
              "  </thead>\n",
              "  <tbody>\n",
              "    <tr>\n",
              "      <th>1</th>\n",
              "      <td>WEST AFRICA</td>\n",
              "      <td>NIGERIA</td>\n",
              "      <td>CONTAINER SHIP</td>\n",
              "      <td>OFF SHORE</td>\n",
              "      <td>3.000000</td>\n",
              "      <td>6.250000</td>\n",
              "      <td>EVENING</td>\n",
              "      <td>0</td>\n",
              "      <td>January</td>\n",
              "      <td>Saturday</td>\n",
              "      <td>23.0</td>\n",
              "    </tr>\n",
              "    <tr>\n",
              "      <th>2</th>\n",
              "      <td>WEST AFRICA</td>\n",
              "      <td>NIGERIA</td>\n",
              "      <td>PRODUCT TANKER</td>\n",
              "      <td>OFF SHORE</td>\n",
              "      <td>2.500000</td>\n",
              "      <td>5.750000</td>\n",
              "      <td>EVENING</td>\n",
              "      <td>1</td>\n",
              "      <td>January</td>\n",
              "      <td>Friday</td>\n",
              "      <td>23.0</td>\n",
              "    </tr>\n",
              "    <tr>\n",
              "      <th>3</th>\n",
              "      <td>SOUTH ASIA</td>\n",
              "      <td>INDIA</td>\n",
              "      <td>PRODUCT TANKER</td>\n",
              "      <td>ANCHORAGE</td>\n",
              "      <td>22.816667</td>\n",
              "      <td>70.116667</td>\n",
              "      <td>NIGHT</td>\n",
              "      <td>0</td>\n",
              "      <td>January</td>\n",
              "      <td>Thursday</td>\n",
              "      <td>3.0</td>\n",
              "    </tr>\n",
              "    <tr>\n",
              "      <th>4</th>\n",
              "      <td>HORN OF AFRICA/ GULF OF ADEN</td>\n",
              "      <td>SOMALIA</td>\n",
              "      <td>NaN</td>\n",
              "      <td>OFF SHORE</td>\n",
              "      <td>13.998747</td>\n",
              "      <td>54.112792</td>\n",
              "      <td>UNKNOWN</td>\n",
              "      <td>0</td>\n",
              "      <td>January</td>\n",
              "      <td>Wednesday</td>\n",
              "      <td>NaN</td>\n",
              "    </tr>\n",
              "    <tr>\n",
              "      <th>5</th>\n",
              "      <td>SOUTH AMERICA</td>\n",
              "      <td>OTHER</td>\n",
              "      <td>GENERAL CARGO VESSEL</td>\n",
              "      <td>ANCHORAGE</td>\n",
              "      <td>10.267500</td>\n",
              "      <td>-63.432500</td>\n",
              "      <td>EVENING</td>\n",
              "      <td>1</td>\n",
              "      <td>January</td>\n",
              "      <td>Monday</td>\n",
              "      <td>23.0</td>\n",
              "    </tr>\n",
              "  </tbody>\n",
              "</table>\n",
              "</div>"
            ],
            "text/plain": [
              "                         REGION  COUNTRY  ...        DAY  HOUR\n",
              "1                   WEST AFRICA  NIGERIA  ...   Saturday  23.0\n",
              "2                   WEST AFRICA  NIGERIA  ...     Friday  23.0\n",
              "3                    SOUTH ASIA    INDIA  ...   Thursday   3.0\n",
              "4  HORN OF AFRICA/ GULF OF ADEN  SOMALIA  ...  Wednesday   NaN\n",
              "5                 SOUTH AMERICA    OTHER  ...     Monday  23.0\n",
              "\n",
              "[5 rows x 11 columns]"
            ]
          },
          "metadata": {},
          "execution_count": 277
        }
      ]
    },
    {
      "cell_type": "code",
      "metadata": {
        "colab": {
          "base_uri": "https://localhost:8080/"
        },
        "id": "nQO57i3nzkE0",
        "outputId": "29c7822f-9227-40ea-99f2-92ba0d1c2330"
      },
      "source": [
        "df.dtypes"
      ],
      "execution_count": 278,
      "outputs": [
        {
          "output_type": "execute_result",
          "data": {
            "text/plain": [
              "REGION                       object\n",
              "COUNTRY                      object\n",
              "VESSEL TYPE                  object\n",
              "VESSEL ACTIVITY LOCATION     object\n",
              "LAT                         float64\n",
              "LONG                        float64\n",
              "TIME OF DAY                  object\n",
              "ATTACK SUCCESS                int64\n",
              "MONTH                        object\n",
              "DAY                          object\n",
              "HOUR                        float64\n",
              "dtype: object"
            ]
          },
          "metadata": {},
          "execution_count": 278
        }
      ]
    },
    {
      "cell_type": "code",
      "metadata": {
        "id": "7cgl2kxb0l_g"
      },
      "source": [
        "df[\"HOUR\"] = df[\"HOUR\"].astype(str)"
      ],
      "execution_count": 279,
      "outputs": []
    },
    {
      "cell_type": "code",
      "metadata": {
        "id": "c9RpJgBvu3dJ"
      },
      "source": [
        "# df = df.dropna().reset_index(drop=True)\n",
        "# df.info()"
      ],
      "execution_count": 280,
      "outputs": []
    },
    {
      "cell_type": "markdown",
      "metadata": {
        "id": "rttVWkzuvCZf"
      },
      "source": [
        "### Check class imbalance "
      ]
    },
    {
      "cell_type": "code",
      "metadata": {
        "colab": {
          "base_uri": "https://localhost:8080/"
        },
        "id": "rRa5zlHdvCHx",
        "outputId": "89cd5a78-055f-4d24-9930-c64a511d44c5"
      },
      "source": [
        "df[\"ATTACK SUCCESS\"].value_counts()"
      ],
      "execution_count": 281,
      "outputs": [
        {
          "output_type": "execute_result",
          "data": {
            "text/plain": [
              "1    500\n",
              "0    302\n",
              "Name: ATTACK SUCCESS, dtype: int64"
            ]
          },
          "metadata": {},
          "execution_count": 281
        }
      ]
    },
    {
      "cell_type": "markdown",
      "metadata": {
        "id": "nhvguP3QSdt-"
      },
      "source": [
        "# Data preparation"
      ]
    },
    {
      "cell_type": "code",
      "metadata": {
        "id": "0fNiHOm-kRTR"
      },
      "source": [
        "X = df.drop(columns=\"ATTACK SUCCESS\")\n",
        "y = df[\"ATTACK SUCCESS\"]"
      ],
      "execution_count": 282,
      "outputs": []
    },
    {
      "cell_type": "code",
      "metadata": {
        "colab": {
          "base_uri": "https://localhost:8080/"
        },
        "id": "17g0nqoukEbp",
        "outputId": "21682c72-cfe3-464a-dbf5-6b30a94a8540"
      },
      "source": [
        "# Split the data\n",
        "X_train, X_test, y_train, y_test = train_test_split(X, y, test_size=0.3, random_state=42, stratify=y)\n",
        "\n",
        "X_train.shape, X_test.shape, y_train.shape, y_test.shape"
      ],
      "execution_count": 283,
      "outputs": [
        {
          "output_type": "execute_result",
          "data": {
            "text/plain": [
              "((561, 10), (241, 10), (561,), (241,))"
            ]
          },
          "metadata": {},
          "execution_count": 283
        }
      ]
    },
    {
      "cell_type": "code",
      "metadata": {
        "colab": {
          "base_uri": "https://localhost:8080/"
        },
        "id": "7R9P7WvRSTLI",
        "outputId": "f6827792-015b-4d39-9967-a498e9a1697c"
      },
      "source": [
        "# Split the X_train data\n",
        "categorical_features = X_train.select_dtypes(\"object\").columns.to_list()\n",
        "numeric_features = X_train.select_dtypes([\"int64\", \"float64\"]).columns.to_list()\n",
        "\n",
        "print(\"Num of categorical features:\", len(categorical_features))\n",
        "print(\"Num of categorical features:\", len(numeric_features))"
      ],
      "execution_count": 284,
      "outputs": [
        {
          "output_type": "stream",
          "name": "stdout",
          "text": [
            "Num of categorical features: 8\n",
            "Num of categorical features: 2\n"
          ]
        }
      ]
    },
    {
      "cell_type": "code",
      "metadata": {
        "id": "4wWTbbY0YFnO"
      },
      "source": [
        "# Create transformations\n",
        "categorical_transformer = Pipeline(steps=[\n",
        "                                          (\"cat_imputer\", SimpleImputer(strategy='constant',\n",
        "                                                                        fill_value='Not Available')),\n",
        "                                          (\"onehot\", OneHotEncoder(handle_unknown=\"ignore\"))\n",
        "                                          ])\n",
        "\n",
        "numeric_transformer = Pipeline(steps=[\n",
        "                                      (\"knn_imputer\", KNNImputer(n_neighbors=5)),\n",
        "                                      (\"scaler\", StandardScaler())\n",
        "                                      ])\n",
        "\n",
        "preprocessor = ColumnTransformer(transformers=[\n",
        "                                               (\"num\", numeric_transformer, \n",
        "                                                       numeric_features),\n",
        "                                               (\"cat\", categorical_transformer, \n",
        "                                                       categorical_features)\n",
        "                                               ])"
      ],
      "execution_count": 285,
      "outputs": []
    },
    {
      "cell_type": "code",
      "metadata": {
        "id": "ZxRlJPifYQp3"
      },
      "source": [
        "# Define models to test\n",
        "lr = LogisticRegression(random_state=42, solver='liblinear')\n",
        "knn = KNeighborsClassifier()\n",
        "nb = BernoulliNB()\n",
        "svc = LinearSVC(random_state=42, max_iter=5000)\n",
        "dtree = DecisionTreeClassifier(random_state=42)\n",
        "rf = RandomForestClassifier(random_state=42)\n",
        "ada_boost = AdaBoostClassifier(random_state=42)\n",
        "gbm = GradientBoostingClassifier(random_state=42)\n",
        "xgb = XGBClassifier(random_state=42)\n",
        "\n",
        "# Support objects\n",
        "models = {\"LogisticRegression\": lr,\n",
        "          \"KNNeighbors\": knn,\n",
        "          \"BernoulliNB\": nb,\n",
        "          \"LinearSVC\": svc,\n",
        "          \"DecisionTree\": dtree,\n",
        "          \"RandomForest\": rf,\n",
        "          \"AdaBoost\": ada_boost,\n",
        "          \"GradientBoosting\": gbm,\n",
        "          \"XGB\": xgb,\n",
        "          }\n",
        "\n",
        "scores_dict = {}\n",
        "cross_val_dict = {}"
      ],
      "execution_count": 286,
      "outputs": []
    },
    {
      "cell_type": "code",
      "metadata": {
        "id": "4lZIAvghYT-C"
      },
      "source": [
        "# Define a function to calcualte the scores\n",
        "def calc_score(preprocessor, model):\n",
        "  \n",
        "  pipeline = Pipeline(steps=[\n",
        "                             (\"pre_process\", preprocessor), \n",
        "                             (\"model\", model)\n",
        "                             ])\n",
        "  \n",
        "  pipeline.fit(X_train, y_train)\n",
        "  y_pred = pipeline.predict(X_test)\n",
        "\n",
        "  train_score = cross_val_score(pipeline, X_train, y_train, scoring='f1', cv=4)\n",
        "  train_score = round(np.mean(train_score), 3)\n",
        "\n",
        "  test_score = round(f1_score(y_test, y_pred, average='weighted'), 3)\n",
        "\n",
        "  return train_score, test_score"
      ],
      "execution_count": 287,
      "outputs": []
    },
    {
      "cell_type": "code",
      "metadata": {
        "id": "A2iBgQRrjmaE"
      },
      "source": [
        "# Calculate the f1 score for each model\n",
        "for model_name, model in models.items():\n",
        "  \n",
        "  train_score, test_score = calc_score(preprocessor, model)\n",
        "  \n",
        "  scores_dict[model_name] = [train_score, test_score]"
      ],
      "execution_count": 288,
      "outputs": []
    },
    {
      "cell_type": "code",
      "metadata": {
        "colab": {
          "base_uri": "https://localhost:8080/",
          "height": 328
        },
        "id": "-QB-kiqro9J_",
        "outputId": "3f21dcaf-92e8-4260-b7c6-0aca8bbc39f9"
      },
      "source": [
        "# Create a dataframe with the scores\n",
        "scores_df = pd.DataFrame.from_dict(scores_dict, orient='index', columns=[\"train - f1_score\", \"test - f1_score\"])\n",
        "scores_df"
      ],
      "execution_count": 289,
      "outputs": [
        {
          "output_type": "execute_result",
          "data": {
            "text/html": [
              "<div>\n",
              "<style scoped>\n",
              "    .dataframe tbody tr th:only-of-type {\n",
              "        vertical-align: middle;\n",
              "    }\n",
              "\n",
              "    .dataframe tbody tr th {\n",
              "        vertical-align: top;\n",
              "    }\n",
              "\n",
              "    .dataframe thead th {\n",
              "        text-align: right;\n",
              "    }\n",
              "</style>\n",
              "<table border=\"1\" class=\"dataframe\">\n",
              "  <thead>\n",
              "    <tr style=\"text-align: right;\">\n",
              "      <th></th>\n",
              "      <th>train - f1_score</th>\n",
              "      <th>test - f1_score</th>\n",
              "    </tr>\n",
              "  </thead>\n",
              "  <tbody>\n",
              "    <tr>\n",
              "      <th>LogisticRegression</th>\n",
              "      <td>0.704</td>\n",
              "      <td>0.661</td>\n",
              "    </tr>\n",
              "    <tr>\n",
              "      <th>KNNeighbors</th>\n",
              "      <td>0.712</td>\n",
              "      <td>0.643</td>\n",
              "    </tr>\n",
              "    <tr>\n",
              "      <th>BernoulliNB</th>\n",
              "      <td>0.669</td>\n",
              "      <td>0.668</td>\n",
              "    </tr>\n",
              "    <tr>\n",
              "      <th>LinearSVC</th>\n",
              "      <td>0.691</td>\n",
              "      <td>0.664</td>\n",
              "    </tr>\n",
              "    <tr>\n",
              "      <th>DecisionTree</th>\n",
              "      <td>0.670</td>\n",
              "      <td>0.562</td>\n",
              "    </tr>\n",
              "    <tr>\n",
              "      <th>RandomForest</th>\n",
              "      <td>0.728</td>\n",
              "      <td>0.629</td>\n",
              "    </tr>\n",
              "    <tr>\n",
              "      <th>AdaBoost</th>\n",
              "      <td>0.699</td>\n",
              "      <td>0.626</td>\n",
              "    </tr>\n",
              "    <tr>\n",
              "      <th>GradientBoosting</th>\n",
              "      <td>0.720</td>\n",
              "      <td>0.662</td>\n",
              "    </tr>\n",
              "    <tr>\n",
              "      <th>XGB</th>\n",
              "      <td>0.727</td>\n",
              "      <td>0.659</td>\n",
              "    </tr>\n",
              "  </tbody>\n",
              "</table>\n",
              "</div>"
            ],
            "text/plain": [
              "                    train - f1_score  test - f1_score\n",
              "LogisticRegression             0.704            0.661\n",
              "KNNeighbors                    0.712            0.643\n",
              "BernoulliNB                    0.669            0.668\n",
              "LinearSVC                      0.691            0.664\n",
              "DecisionTree                   0.670            0.562\n",
              "RandomForest                   0.728            0.629\n",
              "AdaBoost                       0.699            0.626\n",
              "GradientBoosting               0.720            0.662\n",
              "XGB                            0.727            0.659"
            ]
          },
          "metadata": {},
          "execution_count": 289
        }
      ]
    },
    {
      "cell_type": "code",
      "metadata": {
        "colab": {
          "base_uri": "https://localhost:8080/",
          "height": 406
        },
        "id": "SWpzual3tVgt",
        "outputId": "921177f2-5994-4684-d5d3-00a48925a043"
      },
      "source": [
        "# Plot the scores\n",
        "fig, ax = plt.subplots(figsize=(15,6))\n",
        "\n",
        "ax.bar(scores_df.index, scores_df[\"train - f1_score\"], label=\"train\", color=\"lightblue\")\n",
        "ax.bar(scores_df.index, scores_df[\"test - f1_score\"], label=\"test\", color=\"orange\", alpha=0.7)\n",
        "\n",
        "# Plot text for train\n",
        "x = scores_df.index\n",
        "y = scores_df[\"train - f1_score\"]\n",
        "for i in range(len(x)):\n",
        "        ax.text(i - 0.15, y[i]+0.001, y[i], color=\"blue\")\n",
        "\n",
        "# Plot text for test\n",
        "x = scores_df.index\n",
        "y = scores_df[\"test - f1_score\"]\n",
        "for i in range(len(x)):\n",
        "        ax.text(i - 0.15, y[i]-0.007, y[i], color=\"red\")\n",
        "\n",
        "ax.set_ylim(min(scores_df[\"test - f1_score\"])-0.02, max(scores_df[\"train - f1_score\"])+0.02)\n",
        "ax.set_xlabel(\"Model\")\n",
        "ax.set_ylabel(\"F1 Score\")\n",
        "ax.legend()\n",
        ";"
      ],
      "execution_count": 306,
      "outputs": [
        {
          "output_type": "execute_result",
          "data": {
            "application/vnd.google.colaboratory.intrinsic+json": {
              "type": "string"
            },
            "text/plain": [
              "''"
            ]
          },
          "metadata": {},
          "execution_count": 306
        },
        {
          "output_type": "display_data",
          "data": {
            "image/png": "[encoded data removed]",
            "text/plain": [
              "<Figure size 1080x432 with 1 Axes>"
            ]
          },
          "metadata": {
            "needs_background": "light"
          }
        }
      ]
    },
    {
      "cell_type": "markdown",
      "metadata": {
        "id": "we7RVQGjBb8P"
      },
      "source": [
        "# Let's tune the KNN"
      ]
    },
    {
      "cell_type": "code",
      "metadata": {
        "colab": {
          "base_uri": "https://localhost:8080/"
        },
        "id": "VZCsDTVLBbdN",
        "outputId": "8bbc637d-40a9-4bed-a5d9-0e07c6991761"
      },
      "source": [
        "neighbors = [2, 3, 5, 7, 10, 15]\n",
        "\n",
        "for n in neighbors:\n",
        "  knn = KNeighborsClassifier(n_neighbors=n)\n",
        "    \n",
        "  pipeline_knn = Pipeline(steps=[\n",
        "                              (\"pre_process\", preprocessor), \n",
        "                              (\"model\", knn)\n",
        "                              ])\n",
        "    \n",
        "  pipeline_knn.fit(X_train, y_train)\n",
        "\n",
        "  y_pred = pipeline_knn.predict(X_test)\n",
        "\n",
        "  train_score = cross_val_score(pipeline_knn, X_train, y_train, scoring='f1', cv=5)\n",
        "  train_score = round(np.mean(train_score), 3)\n",
        "\n",
        "  test_score = round(f1_score(y_test, y_pred, average='weighted'), 3)\n",
        "\n",
        "  print(n)\n",
        "  print(train_score)\n",
        "  print(test_score)"
      ],
      "execution_count": 299,
      "outputs": [
        {
          "output_type": "stream",
          "name": "stdout",
          "text": [
            "2\n",
            "0.608\n",
            "0.59\n",
            "3\n",
            "0.709\n",
            "0.625\n",
            "5\n",
            "0.709\n",
            "0.643\n",
            "7\n",
            "0.715\n",
            "0.672\n",
            "10\n",
            "0.714\n",
            "0.657\n",
            "15\n",
            "0.745\n",
            "0.622\n"
          ]
        }
      ]
    },
    {
      "cell_type": "markdown",
      "metadata": {
        "id": "xPFiJVSbDZKV"
      },
      "source": [
        "Looks like we get the best performance in the cross validation with n=7 (balance between f1_score for the training dataset and overfitting)"
      ]
    },
    {
      "cell_type": "markdown",
      "metadata": {
        "id": "p5XfE8Kt_L0P"
      },
      "source": [
        "# Testing XGB"
      ]
    },
    {
      "cell_type": "code",
      "metadata": {
        "id": "YHHGgzdy1Ox6"
      },
      "source": [
        "xgb_model = XGBClassifier(random_state=42)\n",
        "  \n",
        "pipeline_xgb = Pipeline(steps=[\n",
        "                             (\"pre_process\", preprocessor), \n",
        "                             (\"model\", xgb_model)\n",
        "                             ])\n",
        "  \n",
        "pipeline_xgb.fit(X_train, y_train)\n",
        "\n",
        "y_pred = pipeline_xgb.predict(X_test)"
      ],
      "execution_count": 300,
      "outputs": []
    },
    {
      "cell_type": "code",
      "metadata": {
        "colab": {
          "base_uri": "https://localhost:8080/"
        },
        "id": "qeFHo1Ra7g0F",
        "outputId": "13016c7b-91b9-4c35-da31-3e162cc2da93"
      },
      "source": [
        "num_features = list(pipeline_xgb['pre_process'].transformers_[0][2])\n",
        "cat_features = list(pipeline_xgb['pre_process'].transformers_[1][1]['onehot'].get_feature_names(categorical_features))\n",
        "feature_cols = num_features + cat_features\n",
        "num_features, cat_features"
      ],
      "execution_count": 301,
      "outputs": [
        {
          "output_type": "execute_result",
          "data": {
            "text/plain": [
              "(['LAT', 'LONG'],\n",
              " ['REGION_HORN OF AFRICA/ GULF OF ADEN',\n",
              "  'REGION_MIDDLE EAST',\n",
              "  'REGION_NORTH AFRICA',\n",
              "  'REGION_OTHER',\n",
              "  'REGION_SOUTH AMERICA',\n",
              "  'REGION_SOUTH ASIA',\n",
              "  'REGION_SOUTH EAST ASIA',\n",
              "  'REGION_WEST AFRICA',\n",
              "  'COUNTRY_BANGLADESH',\n",
              "  'COUNTRY_CHINA',\n",
              "  'COUNTRY_COLOMBIA',\n",
              "  'COUNTRY_CONGO',\n",
              "  \"COUNTRY_COTE D'IVOIRE\",\n",
              "  'COUNTRY_GHANA',\n",
              "  'COUNTRY_INDIA',\n",
              "  'COUNTRY_INDONESIA',\n",
              "  'COUNTRY_LIBYA',\n",
              "  'COUNTRY_MALAYSIA',\n",
              "  'COUNTRY_NIGERIA',\n",
              "  'COUNTRY_OTHER',\n",
              "  'COUNTRY_PHILIPPINES',\n",
              "  'COUNTRY_SINGAPORE',\n",
              "  'COUNTRY_SOMALIA',\n",
              "  'COUNTRY_VIETNAM',\n",
              "  'COUNTRY_YEMEN',\n",
              "  'VESSEL TYPE_BULK CARRIER',\n",
              "  'VESSEL TYPE_CHEMICAL TANKER',\n",
              "  'VESSEL TYPE_CONTAINER SHIP',\n",
              "  'VESSEL TYPE_CRUDE OIL TANKER',\n",
              "  'VESSEL TYPE_FISHING VESSEL',\n",
              "  'VESSEL TYPE_GENERAL CARGO VESSEL',\n",
              "  'VESSEL TYPE_LPG TANKER',\n",
              "  'VESSEL TYPE_MERCHANT VESSEL',\n",
              "  'VESSEL TYPE_Not Available',\n",
              "  'VESSEL TYPE_OTHER',\n",
              "  'VESSEL TYPE_PASSENGER VESSEL',\n",
              "  'VESSEL TYPE_PRODUCT TANKER',\n",
              "  'VESSEL TYPE_SUPPLY VESSEL',\n",
              "  'VESSEL TYPE_TANKER',\n",
              "  'VESSEL TYPE_TRAWLER',\n",
              "  'VESSEL TYPE_TUG',\n",
              "  'VESSEL TYPE_UNKNOWN',\n",
              "  'VESSEL TYPE_VEHICLE CARRIER',\n",
              "  'VESSEL ACTIVITY LOCATION_ANCHORAGE',\n",
              "  'VESSEL ACTIVITY LOCATION_BERTH',\n",
              "  'VESSEL ACTIVITY LOCATION_Not Available',\n",
              "  'VESSEL ACTIVITY LOCATION_OFF SHORE',\n",
              "  'TIME OF DAY_AFTERNOON',\n",
              "  'TIME OF DAY_EVENING',\n",
              "  'TIME OF DAY_MORNING',\n",
              "  'TIME OF DAY_NIGHT',\n",
              "  'TIME OF DAY_UNKNOWN',\n",
              "  'MONTH_April',\n",
              "  'MONTH_August',\n",
              "  'MONTH_December',\n",
              "  'MONTH_February',\n",
              "  'MONTH_January',\n",
              "  'MONTH_July',\n",
              "  'MONTH_June',\n",
              "  'MONTH_March',\n",
              "  'MONTH_May',\n",
              "  'MONTH_November',\n",
              "  'MONTH_October',\n",
              "  'MONTH_September',\n",
              "  'DAY_Friday',\n",
              "  'DAY_Monday',\n",
              "  'DAY_Saturday',\n",
              "  'DAY_Sunday',\n",
              "  'DAY_Thursday',\n",
              "  'DAY_Tuesday',\n",
              "  'DAY_Wednesday',\n",
              "  'HOUR_0.0',\n",
              "  'HOUR_1.0',\n",
              "  'HOUR_10.0',\n",
              "  'HOUR_11.0',\n",
              "  'HOUR_12.0',\n",
              "  'HOUR_13.0',\n",
              "  'HOUR_14.0',\n",
              "  'HOUR_15.0',\n",
              "  'HOUR_16.0',\n",
              "  'HOUR_17.0',\n",
              "  'HOUR_18.0',\n",
              "  'HOUR_19.0',\n",
              "  'HOUR_2.0',\n",
              "  'HOUR_20.0',\n",
              "  'HOUR_21.0',\n",
              "  'HOUR_22.0',\n",
              "  'HOUR_23.0',\n",
              "  'HOUR_3.0',\n",
              "  'HOUR_4.0',\n",
              "  'HOUR_5.0',\n",
              "  'HOUR_6.0',\n",
              "  'HOUR_7.0',\n",
              "  'HOUR_8.0',\n",
              "  'HOUR_9.0',\n",
              "  'HOUR_nan'])"
            ]
          },
          "metadata": {},
          "execution_count": 301
        }
      ]
    },
    {
      "cell_type": "code",
      "metadata": {
        "colab": {
          "base_uri": "https://localhost:8080/"
        },
        "id": "lkDj2NnQ9Hkh",
        "outputId": "8515e9d4-84e3-4bad-bca1-659827d622e0"
      },
      "source": [
        "xgb_model.feature_importances_"
      ],
      "execution_count": 302,
      "outputs": [
        {
          "output_type": "execute_result",
          "data": {
            "text/plain": [
              "array([0.02542088, 0.02168779, 0.01859342, 0.00683855, 0.        ,\n",
              "       0.03094693, 0.        , 0.02108895, 0.01125051, 0.04403192,\n",
              "       0.        , 0.        , 0.        , 0.        , 0.        ,\n",
              "       0.        , 0.00914112, 0.00762401, 0.        , 0.01778016,\n",
              "       0.04126028, 0.01179627, 0.        , 0.02969423, 0.00582324,\n",
              "       0.01859905, 0.        , 0.00661728, 0.        , 0.        ,\n",
              "       0.01350433, 0.01411574, 0.01428893, 0.        , 0.06576759,\n",
              "       0.01447398, 0.        , 0.01361087, 0.03238759, 0.        ,\n",
              "       0.        , 0.        , 0.        , 0.00770455, 0.        ,\n",
              "       0.01204997, 0.        , 0.01865773, 0.02777317, 0.03116491,\n",
              "       0.01423637, 0.        , 0.00396302, 0.        , 0.03445004,\n",
              "       0.        , 0.0127245 , 0.02476269, 0.0116481 , 0.01516782,\n",
              "       0.0242171 , 0.03037533, 0.01730009, 0.        , 0.        ,\n",
              "       0.00928771, 0.01628777, 0.        , 0.03198778, 0.01139374,\n",
              "       0.        , 0.        , 0.03057829, 0.01946465, 0.        ,\n",
              "       0.        , 0.01325922, 0.        , 0.        , 0.        ,\n",
              "       0.        , 0.        , 0.        , 0.        , 0.        ,\n",
              "       0.01117755, 0.        , 0.        , 0.        , 0.        ,\n",
              "       0.        , 0.01014999, 0.        , 0.        , 0.        ,\n",
              "       0.00944953, 0.02730078, 0.02712402], dtype=float32)"
            ]
          },
          "metadata": {},
          "execution_count": 302
        }
      ]
    },
    {
      "cell_type": "code",
      "metadata": {
        "colab": {
          "base_uri": "https://localhost:8080/",
          "height": 669
        },
        "id": "KWCQiuBS9SFM",
        "outputId": "882819e0-cca0-4e46-ab80-fa38f7d2a494"
      },
      "source": [
        "xgb_importances = pd.DataFrame(\n",
        "    {\"feature\": feature_cols, \"importance\": np.round(xgb_model.feature_importances_, 3)}\n",
        ")\n",
        "xgb_importances = xgb_importances.sort_values(\"importance\", ascending=False).reset_index(drop=True)\n",
        "\n",
        "xgb_importances.head(20)"
      ],
      "execution_count": 304,
      "outputs": [
        {
          "output_type": "execute_result",
          "data": {
            "text/html": [
              "<div>\n",
              "<style scoped>\n",
              "    .dataframe tbody tr th:only-of-type {\n",
              "        vertical-align: middle;\n",
              "    }\n",
              "\n",
              "    .dataframe tbody tr th {\n",
              "        vertical-align: top;\n",
              "    }\n",
              "\n",
              "    .dataframe thead th {\n",
              "        text-align: right;\n",
              "    }\n",
              "</style>\n",
              "<table border=\"1\" class=\"dataframe\">\n",
              "  <thead>\n",
              "    <tr style=\"text-align: right;\">\n",
              "      <th></th>\n",
              "      <th>feature</th>\n",
              "      <th>importance</th>\n",
              "    </tr>\n",
              "  </thead>\n",
              "  <tbody>\n",
              "    <tr>\n",
              "      <th>0</th>\n",
              "      <td>VESSEL TYPE_MERCHANT VESSEL</td>\n",
              "      <td>0.066</td>\n",
              "    </tr>\n",
              "    <tr>\n",
              "      <th>1</th>\n",
              "      <td>REGION_WEST AFRICA</td>\n",
              "      <td>0.044</td>\n",
              "    </tr>\n",
              "    <tr>\n",
              "      <th>2</th>\n",
              "      <td>COUNTRY_NIGERIA</td>\n",
              "      <td>0.041</td>\n",
              "    </tr>\n",
              "    <tr>\n",
              "      <th>3</th>\n",
              "      <td>MONTH_April</td>\n",
              "      <td>0.034</td>\n",
              "    </tr>\n",
              "    <tr>\n",
              "      <th>4</th>\n",
              "      <td>DAY_Saturday</td>\n",
              "      <td>0.032</td>\n",
              "    </tr>\n",
              "    <tr>\n",
              "      <th>5</th>\n",
              "      <td>VESSEL TYPE_PRODUCT TANKER</td>\n",
              "      <td>0.032</td>\n",
              "    </tr>\n",
              "    <tr>\n",
              "      <th>6</th>\n",
              "      <td>TIME OF DAY_AFTERNOON</td>\n",
              "      <td>0.031</td>\n",
              "    </tr>\n",
              "    <tr>\n",
              "      <th>7</th>\n",
              "      <td>DAY_Wednesday</td>\n",
              "      <td>0.031</td>\n",
              "    </tr>\n",
              "    <tr>\n",
              "      <th>8</th>\n",
              "      <td>REGION_OTHER</td>\n",
              "      <td>0.031</td>\n",
              "    </tr>\n",
              "    <tr>\n",
              "      <th>9</th>\n",
              "      <td>MONTH_March</td>\n",
              "      <td>0.030</td>\n",
              "    </tr>\n",
              "    <tr>\n",
              "      <th>10</th>\n",
              "      <td>COUNTRY_SINGAPORE</td>\n",
              "      <td>0.030</td>\n",
              "    </tr>\n",
              "    <tr>\n",
              "      <th>11</th>\n",
              "      <td>VESSEL ACTIVITY LOCATION_OFF SHORE</td>\n",
              "      <td>0.028</td>\n",
              "    </tr>\n",
              "    <tr>\n",
              "      <th>12</th>\n",
              "      <td>HOUR_9.0</td>\n",
              "      <td>0.027</td>\n",
              "    </tr>\n",
              "    <tr>\n",
              "      <th>13</th>\n",
              "      <td>HOUR_nan</td>\n",
              "      <td>0.027</td>\n",
              "    </tr>\n",
              "    <tr>\n",
              "      <th>14</th>\n",
              "      <td>LAT</td>\n",
              "      <td>0.025</td>\n",
              "    </tr>\n",
              "    <tr>\n",
              "      <th>15</th>\n",
              "      <td>MONTH_February</td>\n",
              "      <td>0.025</td>\n",
              "    </tr>\n",
              "    <tr>\n",
              "      <th>16</th>\n",
              "      <td>MONTH_June</td>\n",
              "      <td>0.024</td>\n",
              "    </tr>\n",
              "    <tr>\n",
              "      <th>17</th>\n",
              "      <td>LONG</td>\n",
              "      <td>0.022</td>\n",
              "    </tr>\n",
              "    <tr>\n",
              "      <th>18</th>\n",
              "      <td>REGION_SOUTH ASIA</td>\n",
              "      <td>0.021</td>\n",
              "    </tr>\n",
              "    <tr>\n",
              "      <th>19</th>\n",
              "      <td>REGION_HORN OF AFRICA/ GULF OF ADEN</td>\n",
              "      <td>0.019</td>\n",
              "    </tr>\n",
              "  </tbody>\n",
              "</table>\n",
              "</div>"
            ],
            "text/plain": [
              "                                feature  importance\n",
              "0           VESSEL TYPE_MERCHANT VESSEL       0.066\n",
              "1                    REGION_WEST AFRICA       0.044\n",
              "2                       COUNTRY_NIGERIA       0.041\n",
              "3                           MONTH_April       0.034\n",
              "4                          DAY_Saturday       0.032\n",
              "5            VESSEL TYPE_PRODUCT TANKER       0.032\n",
              "6                 TIME OF DAY_AFTERNOON       0.031\n",
              "7                         DAY_Wednesday       0.031\n",
              "8                          REGION_OTHER       0.031\n",
              "9                           MONTH_March       0.030\n",
              "10                    COUNTRY_SINGAPORE       0.030\n",
              "11   VESSEL ACTIVITY LOCATION_OFF SHORE       0.028\n",
              "12                             HOUR_9.0       0.027\n",
              "13                             HOUR_nan       0.027\n",
              "14                                  LAT       0.025\n",
              "15                       MONTH_February       0.025\n",
              "16                           MONTH_June       0.024\n",
              "17                                 LONG       0.022\n",
              "18                    REGION_SOUTH ASIA       0.021\n",
              "19  REGION_HORN OF AFRICA/ GULF OF ADEN       0.019"
            ]
          },
          "metadata": {},
          "execution_count": 304
        }
      ]
    }
  ]
}