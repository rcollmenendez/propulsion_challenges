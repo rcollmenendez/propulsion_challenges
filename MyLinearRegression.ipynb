{
  "nbformat": 4,
  "nbformat_minor": 0,
  "metadata": {
    "colab": {
      "name": "MyLinearRegression.ipynb",
      "provenance": [],
      "collapsed_sections": [],
      "mount_file_id": "12sOoEp2fgOgYbPHAnSypTxbljz6dwJtZ",
      "authorship_tag": "ABX9TyNCsLGbLNDihZJukXFtzOI7",
      "include_colab_link": true
    },
    "kernelspec": {
      "name": "python3",
      "display_name": "Python 3"
    },
    "language_info": {
      "name": "python"
    }
  },
  "cells": [
    {
      "cell_type": "markdown",
      "metadata": {
        "id": "view-in-github",
        "colab_type": "text"
      },
      "source": [
        "<a href=\"https://colab.research.google.com/github/rcollmenendez/propulsion_challenges/blob/main/MyLinearRegression.ipynb\" target=\"_parent\"><img src=\"https://colab.research.google.com/assets/colab-badge.svg\" alt=\"Open In Colab\"/></a>"
      ]
    },
    {
      "cell_type": "markdown",
      "metadata": {
        "id": "TqnLUWxmamfF"
      },
      "source": [
        "# Building a LinearRegression\n",
        "\n",
        "In this notebook we will build a linear regression model implementing all the functions from scratch."
      ]
    },
    {
      "cell_type": "code",
      "metadata": {
        "id": "4Op7w4MOaif_"
      },
      "source": [
        "# Import libraries\n",
        "import numpy as np\n",
        "import pandas as pd\n",
        "import matplotlib.pyplot as plt\n",
        "from numpy import random"
      ],
      "execution_count": 125,
      "outputs": []
    },
    {
      "cell_type": "markdown",
      "metadata": {
        "id": "6pO2DzbKcVy5"
      },
      "source": [
        "# Data"
      ]
    },
    {
      "cell_type": "code",
      "metadata": {
        "colab": {
          "base_uri": "https://localhost:8080/",
          "height": 221
        },
        "id": "5Oxc_xkBa4MD",
        "outputId": "927447cf-e8ea-40bc-a68e-4673f723b73c"
      },
      "source": [
        "# For this experiment we will use the salary data\n",
        "salary_df = pd.read_csv(\"/content/drive/MyDrive/0_data/04_MachineLearning/Salary_Data.csv\")\n",
        "print(salary_df.shape)\n",
        "salary_df.head()"
      ],
      "execution_count": 126,
      "outputs": [
        {
          "output_type": "stream",
          "name": "stdout",
          "text": [
            "(30, 2)\n"
          ]
        },
        {
          "output_type": "execute_result",
          "data": {
            "text/html": [
              "<div>\n",
              "<style scoped>\n",
              "    .dataframe tbody tr th:only-of-type {\n",
              "        vertical-align: middle;\n",
              "    }\n",
              "\n",
              "    .dataframe tbody tr th {\n",
              "        vertical-align: top;\n",
              "    }\n",
              "\n",
              "    .dataframe thead th {\n",
              "        text-align: right;\n",
              "    }\n",
              "</style>\n",
              "<table border=\"1\" class=\"dataframe\">\n",
              "  <thead>\n",
              "    <tr style=\"text-align: right;\">\n",
              "      <th></th>\n",
              "      <th>YearsExperience</th>\n",
              "      <th>Salary</th>\n",
              "    </tr>\n",
              "  </thead>\n",
              "  <tbody>\n",
              "    <tr>\n",
              "      <th>0</th>\n",
              "      <td>1.1</td>\n",
              "      <td>39343.0</td>\n",
              "    </tr>\n",
              "    <tr>\n",
              "      <th>1</th>\n",
              "      <td>1.3</td>\n",
              "      <td>46205.0</td>\n",
              "    </tr>\n",
              "    <tr>\n",
              "      <th>2</th>\n",
              "      <td>1.5</td>\n",
              "      <td>37731.0</td>\n",
              "    </tr>\n",
              "    <tr>\n",
              "      <th>3</th>\n",
              "      <td>2.0</td>\n",
              "      <td>43525.0</td>\n",
              "    </tr>\n",
              "    <tr>\n",
              "      <th>4</th>\n",
              "      <td>2.2</td>\n",
              "      <td>39891.0</td>\n",
              "    </tr>\n",
              "  </tbody>\n",
              "</table>\n",
              "</div>"
            ],
            "text/plain": [
              "   YearsExperience   Salary\n",
              "0              1.1  39343.0\n",
              "1              1.3  46205.0\n",
              "2              1.5  37731.0\n",
              "3              2.0  43525.0\n",
              "4              2.2  39891.0"
            ]
          },
          "metadata": {},
          "execution_count": 126
        }
      ]
    },
    {
      "cell_type": "markdown",
      "metadata": {
        "id": "Dt0z1VY2cXZA"
      },
      "source": [
        "# Data preparation"
      ]
    },
    {
      "cell_type": "code",
      "metadata": {
        "id": "KKT3U9jdbLQz"
      },
      "source": [
        "# Extract response variable and features\n",
        "y = salary_df[[\"Salary\"]].values # response variable\n",
        "X = salary_df[[\"YearsExperience\"]].values # features\n",
        "\n",
        "X = np.hstack((np.ones((X.shape[0], 1)), X)) # Column of \"1\" for the intercept\n"
      ],
      "execution_count": 127,
      "outputs": []
    },
    {
      "cell_type": "markdown",
      "metadata": {
        "id": "CQWZT2DOqbBK"
      },
      "source": [
        "# Linear regression\n",
        "\n",
        "$ y_i = \\beta_{0} + \\beta_{1} x_{1} + \\varepsilon $"
      ]
    },
    {
      "cell_type": "code",
      "metadata": {
        "id": "FtVj3Rz3rK-6"
      },
      "source": [
        "# Linear regression process\n",
        "\n",
        "# 1. Initialise some random betas\n",
        "# beta = random.rand(X.shape[1], 1)\n",
        "beta = np.array([[0], [5000]])\n",
        "\n",
        "# 2. Calculate the predictions based on random betas\n",
        "y_pred = np.dot(X, beta)\n",
        "\n",
        "# 3. Calculate the error / loss function - Mean squared error\n",
        "n = len(y)\n",
        "cost = 1 / (2 * n) * np.sum(np.square(y - y_pred))\n",
        "\n",
        "# 4. Calculate the gradient (based on the derivative of the loss function)\n",
        "gradient = 1 / n * np.dot(X.T, (y_pred - y))\n",
        "\n",
        "# 5. Update the betas based on the gradient and a learning rate\n",
        "lr = 0.01\n",
        "new_beta = beta - lr * gradient\n",
        "\n",
        "# Repeat steps 2 to 5 until the gradient descent is below a define threshold"
      ],
      "execution_count": 128,
      "outputs": []
    },
    {
      "cell_type": "code",
      "metadata": {
        "colab": {
          "base_uri": "https://localhost:8080/",
          "height": 295
        },
        "id": "8jD-XMR1RQlF",
        "outputId": "62565dd4-da68-415a-b5a1-1560cd73a42a"
      },
      "source": [
        "# Plot example of a initial linear regression model based on \"y = 0 + 5000\"\n",
        "fig, ax = plt.subplots()\n",
        "\n",
        "ax.scatter(salary_df[\"YearsExperience\"], salary_df[\"Salary\"], color=\"lightblue\", label=\"observations\")\n",
        "ax.plot(salary_df[\"YearsExperience\"], y_pred, color=\"orange\", label=\"linear regression\")\n",
        "\n",
        "ax.set_ylabel(\"Salary\")\n",
        "ax.set_xlabel(\"YearsExperience\")\n",
        "ax.set_title(\"Linear regression\")\n",
        "ax.legend();"
      ],
      "execution_count": 129,
      "outputs": [
        {
          "output_type": "display_data",
          "data": {
            "image/png": "[encoded data removed]",
            "text/plain": [
              "<Figure size 432x288 with 1 Axes>"
            ]
          },
          "metadata": {
            "needs_background": "light"
          }
        }
      ]
    },
    {
      "cell_type": "code",
      "metadata": {
        "id": "cCdYuTn_SAnd"
      },
      "source": [
        "import time\n",
        "from IPython import display\n",
        "\n",
        "# Define functions\n",
        "\n",
        "def my_linear_regression(X, y, lr, beta=None, num_iter=100):\n",
        "  \"\"\"\n",
        "  Calculate the optimal betas for a linear regression problem.\n",
        "\n",
        "  Parameters:\n",
        "    X: matrix of features.\n",
        "    y: vector with the response variable.\n",
        "    lr: learning rate for the gradient descent.\n",
        "    beta: initial betas.\n",
        "    num_iter: max number of iterations for the betas adjustment.\n",
        "\n",
        "  Return:\n",
        "    cost: mse value for the optimized betas.\n",
        "    beta: optimized betas.\n",
        "\n",
        "  \"\"\"\n",
        "  if not beta:\n",
        "    # Init random betas\n",
        "    beta = random.rand(X.shape[1], 1)\n",
        "  \n",
        "  for iter in range(1, num_iter+1):\n",
        "    \n",
        "    # 2. Calculate the predictions\n",
        "    y_pred = np.dot(X, beta)\n",
        "\n",
        "    # 3. Calculate the error\n",
        "    n = len(y)\n",
        "    cost = 1 / (2 * n) * np.sum(np.square(y - y_pred))\n",
        "    cost = round(cost)\n",
        "\n",
        "    # 4. Calculate the gradient (based on the derivative of the loss function)\n",
        "    gradient = 1 / n * np.dot(X.T, (y_pred - y))\n",
        "\n",
        "    # 5. Update the betas based on the gradient and a learning rate\n",
        "    beta -= lr * gradient\n",
        "\n",
        "  # Dynamic plotting - WIP------------------------------------------------------\n",
        "\n",
        "    # fig, ax = plt.subplots()\n",
        "\n",
        "    # plt.gca().cla()\n",
        "\n",
        "    # ax.scatter(salary_df[\"YearsExperience\"], salary_df[\"Salary\"], color=\"lightblue\", label=\"observations\")\n",
        "    # ax.plot(salary_df[\"YearsExperience\"], y_pred, color=\"orange\", label=\"lr\")\n",
        "\n",
        "    # ax.set_ylabel(\"Salary\")\n",
        "    # ax.set_xlabel(\"YearsExperience\")\n",
        "    # ax.set_title(\"Linear regression\")\n",
        "    # ax.legend()\n",
        "\n",
        "    # display.clear_output(wait=True)\n",
        "    # display.display(plt.gcf());\n",
        "    # time.sleep(0.5)\n",
        "\n",
        "    # plt.ioff()\n",
        "\n",
        "  # ----------------------------------------------------------------------------\n",
        "\n",
        "  return cost, beta"
      ],
      "execution_count": 130,
      "outputs": []
    },
    {
      "cell_type": "code",
      "metadata": {
        "id": "gThRue8ZVQ57"
      },
      "source": [
        "cost, beta= my_linear_regression(X, y, 0.01, None, 1000)"
      ],
      "execution_count": 131,
      "outputs": []
    },
    {
      "cell_type": "code",
      "metadata": {
        "colab": {
          "base_uri": "https://localhost:8080/",
          "height": 363
        },
        "id": "DKTfrahGViTt",
        "outputId": "c55c6677-de8c-4312-e209-2f769793b384"
      },
      "source": [
        "# Plot the final result\n",
        "y_pred = np.dot(X, beta)\n",
        "\n",
        "fig, ax = plt.subplots()\n",
        "\n",
        "ax.scatter(salary_df[\"YearsExperience\"], salary_df[\"Salary\"], color=\"lightblue\", label=\"observations\")\n",
        "ax.plot(salary_df[\"YearsExperience\"], y_pred, color=\"orange\", label=\"lr\")\n",
        "\n",
        "ax.set_ylabel(\"Salary\")\n",
        "ax.set_xlabel(\"YearsExperience\")\n",
        "ax.set_title(\"Linear regression\")\n",
        "ax.legend();\n",
        "\n",
        "print(\"Mean Squared Error (MSE):\", cost)\n",
        "print(\"Root Mean Squared Error (RMSE):\", round(np.sqrt(cost)))\n",
        "\n",
        "print(\"Intercept:\", round(beta[0][0]))\n",
        "print(\"Coef:\", round(beta[1][0]))"
      ],
      "execution_count": 132,
      "outputs": [
        {
          "output_type": "stream",
          "name": "stdout",
          "text": [
            "Mean Squared Error (MSE): 16530655\n",
            "Root Mean Squared Error (RMSE): 4066\n",
            "Intercept: 22920\n",
            "Coef: 9876\n"
          ]
        },
        {
          "output_type": "display_data",
          "data": {
            "image/png": "[encoded data removed]",
            "text/plain": [
              "<Figure size 432x288 with 1 Axes>"
            ]
          },
          "metadata": {
            "needs_background": "light"
          }
        }
      ]
    },
    {
      "cell_type": "markdown",
      "metadata": {
        "id": "VTp5g86Tra0c"
      },
      "source": [
        "# Linear regression using sklearn"
      ]
    },
    {
      "cell_type": "code",
      "metadata": {
        "colab": {
          "base_uri": "https://localhost:8080/"
        },
        "id": "qPVaintVrc-y",
        "outputId": "706ab967-249d-4af2-c1c6-32824ff5e4e6"
      },
      "source": [
        "from sklearn.linear_model import LinearRegression\n",
        "from sklearn.metrics import mean_squared_error\n",
        "\n",
        "\n",
        "y = salary_df[[\"Salary\"]].values # response variable\n",
        "X = salary_df[[\"YearsExperience\"]].values # features\n",
        "\n",
        "# Initialise the linear regression class\n",
        "lr = LinearRegression()\n",
        "\n",
        "# Fit the lr\n",
        "lr.fit(X, y)\n",
        "\n",
        "# Predict the y\n",
        "y_pred = lr.predict(y)\n",
        "\n",
        "mse = mean_squared_error(y, y_pred)\n",
        "rmse = np.sqrt(mse)\n",
        "\n",
        "print(\"Mean Squared Error (MSE):\", round(mse))\n",
        "print(\"Root Mean Squared Error (RMSE):\", round(rmse))\n",
        "\n",
        "print(\"Intercept:\", round(lr.intercept_[0]))\n",
        "print(\"Coef:\", round(lr.coef_[0][0]))"
      ],
      "execution_count": 134,
      "outputs": [
        {
          "output_type": "stream",
          "name": "stdout",
          "text": [
            "Mean Squared Error (MSE): 580639679274243328\n",
            "Root Mean Squared Error (RMSE): 761997165\n",
            "Intercept: 25792\n",
            "Coef: 9450\n"
          ]
        }
      ]
    }
  ]
}